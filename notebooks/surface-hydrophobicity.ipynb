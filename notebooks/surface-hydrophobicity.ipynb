{
 "cells": [
  {
   "attachments": {},
   "cell_type": "markdown",
   "metadata": {},
   "source": [
    "# Surface Hydrophobicity\n",
    "\n",
    "## Goals\n",
    "\n",
    "This notebook describes our analysis of the hydrophobic features of the D-G interface during its early development. To do so, we count the number of residues with apolar behaviour (taken Hochberg2020 as reference)\n",
    "in our interfaces (defined in the Residue-Interaction-Networks notebook), and we compare those against samples\n",
    "of random surface patches in the D subunit. We use a radius of 18$\\AA$ to generate such patches.\n",
    "\n",
    "As a second exercise, we compare these ratios against those of random protein-protein complexes, in an analogous way to Hochberg2020.\n"
   ]
  },
  {
   "cell_type": "code",
   "execution_count": 6,
   "metadata": {},
   "outputs": [],
   "source": [
    "import prody as pdy\n",
    "import freesasa\n",
    "import pandas as pd\n",
    "import seaborn as sns\n",
    "import matplotlib.pyplot as plt\n",
    "from Bio.SeqUtils import seq3\n",
    "from typing import List"
   ]
  },
  {
   "attachments": {},
   "cell_type": "markdown",
   "metadata": {},
   "source": [
    "## Part 1: Interface and surface patches in the D subunit"
   ]
  },
  {
   "cell_type": "code",
   "execution_count": 3,
   "metadata": {},
   "outputs": [],
   "source": [
    "def freesasa_to_df(result, code):\n",
    "    \"\"\"\n",
    "    converts a FreeSASA calculation into a pandas Dataframe\n",
    "    \"\"\"\n",
    "    df = []\n",
    "    for chain_id, residues in result.residueAreas().items():\n",
    "\n",
    "        for resindex, residue in residues.items():\n",
    "\n",
    "            df.append(dict(\n",
    "                residue=int(resindex), chain=chain_id, polar=residue.polar, apolar=residue.apolar,\n",
    "                total=residue.total, relative_total=residue.relativeTotal,\n",
    "                resname=residue.residueType, code=code\n",
    "            ))\n",
    "\n",
    "    return pd.DataFrame.from_records(df)\n",
    "\n",
    "def count_hydrophobic(x: List[str]):\n",
    "    \"\"\"\n",
    "    given a list, returns the number of hydrophobic residues based in the criteria\n",
    "    applied in Hochberg2021\n",
    "\n",
    "    Arguments:\n",
    "    - x: List[str]\n",
    "        List of aminoacids, using 3-letters code.\n",
    "\n",
    "    Returns:\n",
    "    - hydrophobic: int\n",
    "    - total: int\n",
    "    - ratio: float\n",
    "    \"\"\"\n",
    "    polar = 0\n",
    "    apolar = 0\n",
    "\n",
    "    for res in x:\n",
    "        if res in ['CYS', 'PHE', 'ILE', 'LEU', 'MET', 'VAL', 'TRP']:\n",
    "            apolar += 1\n",
    "        else:\n",
    "            polar += 1\n",
    "\n",
    "    return apolar, polar + apolar, apolar / (apolar + polar)\n",
    "\n",
    "\n",
    "def map_sasa_to_complex(structure: pdy.AtomGroup, sasa_df: pd.DataFrame):\n",
    "    for residue in structure.getHierView().iterResidues():\n",
    "\n",
    "        chain = residue.getChid()\n",
    "        resnum = residue.getResnum()\n",
    "\n",
    "        residue.setBetas(sasa_df.loc[chain, resnum]['relative_total'])\n",
    "\n",
    "    return structure\n",
    "\n",
    "\n",
    "def random_hydrophobic_surfaces(surface_residues: List[int], structure: pdy.AtomGroup, chain: str, restrict: List[int], code=None, radius: float=18.0):\n",
    "    \"\"\"\n",
    "    Samples surface patches across the protein, and returns their composition\n",
    "\n",
    "\n",
    "    \"\"\"\n",
    "    ratios = []\n",
    "    structure.setOccupancies(0.0)\n",
    "    for i in surface_residues:\n",
    "        sele = structure.select('within {:4.2f} of (resnum {:d} and chain {:s}) and beta > 0.1'.format(radius, i, chain))\n",
    "\n",
    "        selected_resnums = [item.getResnum() for item in sele.getHierView().iterResidues()]\n",
    "        selected_residues = [item for item in sele.getHierView().iterResidues()]\n",
    "        selected_resnames = [item.getResname() for item in selected_residues]\n",
    "        selected_chains = [item.getChid() for item in selected_residues]\n",
    "\n",
    "        if any([item != \"B\" for item in selected_chains]):\n",
    "            continue\n",
    "\n",
    "        if any([item in restrict for item in selected_resnums]): \n",
    "            continue\n",
    "\n",
    "        hydrophobic, total, ratio = count_hydrophobic(selected_resnames)\n",
    "        ratios.append(dict(residue=i, ratio=ratio, hydrophobic=hydrophobic, total=total, code=code))\n",
    "        sele.setOccupancies(1)\n",
    "    return pd.DataFrame.from_records(ratios), structure\n",
    "\n",
    "dg_interfaces = []"
   ]
  },
  {
   "cell_type": "code",
   "execution_count": 7,
   "metadata": {},
   "outputs": [],
   "source": [
    "structure_pdy = pdy.parsePDB('../models/alignments/AzoV.Vnf.2GDKHH.pdb')\n",
    "structure = freesasa.Structure('../models/alignments/AzoV.Vnf.2GDKHH.pdb')\n",
    "sasa_results = freesasa_to_df(freesasa.calc(structure), code='azov.vnf')\n",
    "interface_residues = pd.read_csv('../data/prolif/surface-evolution/D.subunit.csv').query(\n",
    "    'interface==True')['resnum:AzoV.Vnf'].astype(pd.Int32Dtype()).to_list()\n",
    "surface_residues = sasa_results.query('chain == \"B\" and relative_total > 0.10')['residue'].to_list()\n",
    "sasa_results = sasa_results.set_index(['chain', 'residue'])\n",
    "map_sasa_to_complex(structure_pdy, sasa_results)\n",
    "random_ratios_azov_vnf, azov_vnf_structure = random_hydrophobic_surfaces(\n",
    "    surface_residues, structure_pdy, 'B', [], 'azo.vnf', 18.0 \n",
    ")\n",
    "hydrophobic_count, total_count, ratio = count_hydrophobic(\n",
    "    sasa_results.loc['B'].loc[interface_residues]['resname'].to_list()\n",
    ")\n",
    "dg_interfaces.append(\n",
    "    dict(\n",
    "        code='azov.vnf', hydrophobic_count=hydrophobic_count, \n",
    "        total_count=total_count, ratio=ratio\n",
    "    )\n",
    ")"
   ]
  },
  {
   "cell_type": "code",
   "execution_count": 8,
   "metadata": {},
   "outputs": [
    {
     "data": {
      "text/html": [
       "<div>\n",
       "<style scoped>\n",
       "    .dataframe tbody tr th:only-of-type {\n",
       "        vertical-align: middle;\n",
       "    }\n",
       "\n",
       "    .dataframe tbody tr th {\n",
       "        vertical-align: top;\n",
       "    }\n",
       "\n",
       "    .dataframe thead th {\n",
       "        text-align: right;\n",
       "    }\n",
       "</style>\n",
       "<table border=\"1\" class=\"dataframe\">\n",
       "  <thead>\n",
       "    <tr style=\"text-align: right;\">\n",
       "      <th></th>\n",
       "      <th>residue</th>\n",
       "      <th>ratio</th>\n",
       "      <th>hydrophobic</th>\n",
       "      <th>total</th>\n",
       "      <th>code</th>\n",
       "    </tr>\n",
       "  </thead>\n",
       "  <tbody>\n",
       "    <tr>\n",
       "      <th>0</th>\n",
       "      <td>195</td>\n",
       "      <td>0.153846</td>\n",
       "      <td>8</td>\n",
       "      <td>52</td>\n",
       "      <td>azo.vnf</td>\n",
       "    </tr>\n",
       "    <tr>\n",
       "      <th>1</th>\n",
       "      <td>242</td>\n",
       "      <td>0.163934</td>\n",
       "      <td>10</td>\n",
       "      <td>61</td>\n",
       "      <td>azo.vnf</td>\n",
       "    </tr>\n",
       "  </tbody>\n",
       "</table>\n",
       "</div>"
      ],
      "text/plain": [
       "   residue     ratio  hydrophobic  total     code\n",
       "0      195  0.153846            8     52  azo.vnf\n",
       "1      242  0.163934           10     61  azo.vnf"
      ]
     },
     "execution_count": 8,
     "metadata": {},
     "output_type": "execute_result"
    }
   ],
   "source": [
    "random_ratios_azov_vnf"
   ]
  },
  {
   "cell_type": "code",
   "execution_count": 9,
   "metadata": {},
   "outputs": [],
   "source": [
    "structure_pdy = pdy.parsePDB('../models/alignments/Anc263.2GDKHH.pdb')\n",
    "structure = freesasa.Structure('../models/alignments/Anc263.2GDKHH.pdb')\n",
    "sasa_results = freesasa_to_df(freesasa.calc(structure), code='anc263')\n",
    "interface_residues = pd.read_csv('../data/prolif/surface-evolution/D.subunit.csv').query(\n",
    "    'interface==True')['resnum:Anc263'].astype(pd.Int32Dtype()).to_list()\n",
    "surface_residues = sasa_results.query('chain == \"B\" and relative_total > 0.10')['residue'].to_list()\n",
    "sasa_results = sasa_results.set_index(['chain', 'residue'])\n",
    "map_sasa_to_complex(structure_pdy, sasa_results)\n",
    "random_ratios_anc263, anc263 = random_hydrophobic_surfaces(\n",
    "    surface_residues, structure_pdy, 'B', [], 'anc263', 18.0 \n",
    ")\n",
    "polar_interface, total_interface, ratio = count_hydrophobic(\n",
    "    sasa_results.loc['B'].loc[interface_residues]['resname'].to_list()\n",
    ")\n",
    "dg_interfaces.append(\n",
    "    dict(\n",
    "        code='anc263', polar_interface=polar_interface, \n",
    "        total_interface=total_interface, ratio=ratio\n",
    "    )\n",
    ")"
   ]
  },
  {
   "cell_type": "code",
   "execution_count": 10,
   "metadata": {},
   "outputs": [],
   "source": [
    "structure_pdy = pdy.parsePDB('../models/alignments/Anc264.2DKHH.pdb')\n",
    "structure = freesasa.Structure('../models/alignments/Anc264.2DKHH.pdb')\n",
    "sasa_results = freesasa_to_df(freesasa.calc(structure), code='anc264')\n",
    "interface_residues = pd.read_csv('../data/prolif/surface-evolution/D.subunit.csv').query(\n",
    "    'interface==True')['resnum:Anc264'].astype(pd.Int32Dtype()).to_list()\n",
    "# Filtering due to missing residues\n",
    "interface_residues = [item for item in interface_residues if pd.isna(item) == False]\n",
    "surface_residues = sasa_results.query('chain == \"B\" and relative_total > 0.10')['residue'].to_list()\n",
    "sasa_results = sasa_results.set_index(['chain', 'residue'])\n",
    "map_sasa_to_complex(structure_pdy, sasa_results)\n",
    "random_ratios_anc264, anc264 = random_hydrophobic_surfaces(\n",
    "    surface_residues, structure_pdy, 'B', interface_residues, 'anc264', 18.0 \n",
    ")\n",
    "polar_interface, total_interface, ratio = count_hydrophobic(\n",
    "    sasa_results.loc['B'].loc[interface_residues]['resname'].to_list()\n",
    ")\n",
    "dg_interfaces.append(\n",
    "    dict(\n",
    "        code='anc264', polar_interface=polar_interface, \n",
    "        total_interface=total_interface, ratio=ratio\n",
    "    )\n",
    ")"
   ]
  },
  {
   "cell_type": "code",
   "execution_count": 11,
   "metadata": {},
   "outputs": [],
   "source": [
    "dg_interfaces = pd.DataFrame.from_records(dg_interfaces).set_index('code')"
   ]
  },
  {
   "cell_type": "code",
   "execution_count": 12,
   "metadata": {},
   "outputs": [
    {
     "data": {
      "text/html": [
       "<div>\n",
       "<style scoped>\n",
       "    .dataframe tbody tr th:only-of-type {\n",
       "        vertical-align: middle;\n",
       "    }\n",
       "\n",
       "    .dataframe tbody tr th {\n",
       "        vertical-align: top;\n",
       "    }\n",
       "\n",
       "    .dataframe thead th {\n",
       "        text-align: right;\n",
       "    }\n",
       "</style>\n",
       "<table border=\"1\" class=\"dataframe\">\n",
       "  <thead>\n",
       "    <tr style=\"text-align: right;\">\n",
       "      <th></th>\n",
       "      <th>residue</th>\n",
       "      <th>ratio</th>\n",
       "      <th>hydrophobic</th>\n",
       "      <th>total</th>\n",
       "      <th>code</th>\n",
       "    </tr>\n",
       "  </thead>\n",
       "  <tbody>\n",
       "    <tr>\n",
       "      <th>0</th>\n",
       "      <td>193</td>\n",
       "      <td>0.055556</td>\n",
       "      <td>2</td>\n",
       "      <td>36</td>\n",
       "      <td>anc264</td>\n",
       "    </tr>\n",
       "    <tr>\n",
       "      <th>0</th>\n",
       "      <td>242</td>\n",
       "      <td>0.196721</td>\n",
       "      <td>12</td>\n",
       "      <td>61</td>\n",
       "      <td>anc263</td>\n",
       "    </tr>\n",
       "    <tr>\n",
       "      <th>0</th>\n",
       "      <td>195</td>\n",
       "      <td>0.153846</td>\n",
       "      <td>8</td>\n",
       "      <td>52</td>\n",
       "      <td>azo.vnf</td>\n",
       "    </tr>\n",
       "    <tr>\n",
       "      <th>1</th>\n",
       "      <td>242</td>\n",
       "      <td>0.163934</td>\n",
       "      <td>10</td>\n",
       "      <td>61</td>\n",
       "      <td>azo.vnf</td>\n",
       "    </tr>\n",
       "  </tbody>\n",
       "</table>\n",
       "</div>"
      ],
      "text/plain": [
       "   residue     ratio  hydrophobic  total     code\n",
       "0      193  0.055556            2     36   anc264\n",
       "0      242  0.196721           12     61   anc263\n",
       "0      195  0.153846            8     52  azo.vnf\n",
       "1      242  0.163934           10     61  azo.vnf"
      ]
     },
     "execution_count": 12,
     "metadata": {},
     "output_type": "execute_result"
    }
   ],
   "source": [
    "pd.concat([random_ratios_anc264, random_ratios_anc263, random_ratios_azov_vnf])"
   ]
  },
  {
   "cell_type": "code",
   "execution_count": 58,
   "metadata": {},
   "outputs": [
    {
     "data": {
      "image/png": "[encoded data removed]",
      "text/plain": [
       "<Figure size 432x288 with 1 Axes>"
      ]
     },
     "metadata": {
      "needs_background": "light"
     },
     "output_type": "display_data"
    }
   ],
   "source": [
    "fig, ax = plt.subplots(1)\n",
    "ax.axhline(dg_interfaces.loc['anc264']['ratio'], xmin=0.05, xmax=0.28, color='red', linestyle='--', linewidth=3)\n",
    "ax.axhline(dg_interfaces.loc['anc263']['ratio'], xmin=0.38, xmax=0.61, color='red', linestyle='--', linewidth=3)\n",
    "ax.axhline(dg_interfaces.loc['azov.vnf']['ratio'], xmin=0.71, xmax=0.95, color='red', linestyle='--', linewidth=3)\n",
    "\n",
    "#ax.text(0.35, 0.72, 'GD')\n",
    "#ax.text(1.35, 0.68, 'GD')\n",
    "sns.boxplot(data=pd.concat([random_ratios_anc264, random_ratios_anc263, random_ratios_azov_vnf]), x='code', y='ratio', ax=ax)\n",
    "ax.set_ylabel('Ratio Apolar / Total')\n",
    "fig.tight_layout()\n",
    "# plt.savefig('../figures/surface-apolar-ratio.png', dpi=300)"
   ]
  },
  {
   "cell_type": "code",
   "execution_count": 57,
   "metadata": {},
   "outputs": [
    {
     "data": {
      "text/html": [
       "<div>\n",
       "<style scoped>\n",
       "    .dataframe tbody tr th:only-of-type {\n",
       "        vertical-align: middle;\n",
       "    }\n",
       "\n",
       "    .dataframe tbody tr th {\n",
       "        vertical-align: top;\n",
       "    }\n",
       "\n",
       "    .dataframe thead th {\n",
       "        text-align: right;\n",
       "    }\n",
       "</style>\n",
       "<table border=\"1\" class=\"dataframe\">\n",
       "  <thead>\n",
       "    <tr style=\"text-align: right;\">\n",
       "      <th></th>\n",
       "      <th>polar_interface</th>\n",
       "      <th>total_interface</th>\n",
       "      <th>ratio</th>\n",
       "    </tr>\n",
       "    <tr>\n",
       "      <th>code</th>\n",
       "      <th></th>\n",
       "      <th></th>\n",
       "      <th></th>\n",
       "    </tr>\n",
       "  </thead>\n",
       "  <tbody>\n",
       "    <tr>\n",
       "      <th>azov.vnf</th>\n",
       "      <td>8</td>\n",
       "      <td>42</td>\n",
       "      <td>0.190476</td>\n",
       "    </tr>\n",
       "    <tr>\n",
       "      <th>anc263</th>\n",
       "      <td>8</td>\n",
       "      <td>42</td>\n",
       "      <td>0.190476</td>\n",
       "    </tr>\n",
       "    <tr>\n",
       "      <th>anc264</th>\n",
       "      <td>9</td>\n",
       "      <td>41</td>\n",
       "      <td>0.219512</td>\n",
       "    </tr>\n",
       "  </tbody>\n",
       "</table>\n",
       "</div>"
      ],
      "text/plain": [
       "          polar_interface  total_interface     ratio\n",
       "code                                                \n",
       "azov.vnf                8               42  0.190476\n",
       "anc263                  8               42  0.190476\n",
       "anc264                  9               41  0.219512"
      ]
     },
     "execution_count": 57,
     "metadata": {},
     "output_type": "execute_result"
    }
   ],
   "source": [
    "dg_interfaces"
   ]
  },
  {
   "cell_type": "code",
   "execution_count": 69,
   "metadata": {},
   "outputs": [
    {
     "data": {
      "text/plain": [
       "(12, 42, 0.2857142857142857)"
      ]
     },
     "execution_count": 69,
     "metadata": {},
     "output_type": "execute_result"
    }
   ],
   "source": [
    "def count_ocurrences(x: List[str], residue_list):\n",
    "    \"\"\"\n",
    "    given a list, returns the number of hydrophobic residues based in the criteria\n",
    "    applied in Hochberg2021\n",
    "\n",
    "    Arguments:\n",
    "    - x: List[str]\n",
    "        List of aminoacids, using 3-letters code.\n",
    "\n",
    "    Returns:\n",
    "    - hydrophobic: int\n",
    "    - total: int\n",
    "    - ratio: float\n",
    "    \"\"\"\n",
    "    polar = 0\n",
    "    apolar = 0\n",
    "\n",
    "    for res in x:\n",
    "        if res in residue_list:\n",
    "            apolar += 1\n",
    "        else:\n",
    "            polar += 1\n",
    "\n",
    "    return apolar, polar + apolar, apolar / (apolar + polar)\n",
    "\n",
    "\n",
    "interface_residues = pd.read_csv('../data/prolif/surface-evolution/D.subunit.csv').query(\n",
    "    'interface==True')['resnum:AzoV.Vnf'].astype(pd.Int32Dtype()).to_list()\n",
    "\n",
    "\n",
    "count_ocurrences(\n",
    "    sasa_results.loc['B'].loc[interface_residues]['resname'].to_list(),\n",
    "    ['ALA', 'PHE', 'ILE', 'LEU', 'MET', 'PRO', 'VAL', 'TRP']\n",
    ")\n"
   ]
  },
  {
   "cell_type": "code",
   "execution_count": 8,
   "metadata": {},
   "outputs": [
    {
     "data": {
      "text/plain": [
       "'anc264.sasa.pdb'"
      ]
     },
     "execution_count": 8,
     "metadata": {},
     "output_type": "execute_result"
    }
   ],
   "source": [
    "pdy.writePDB('anc264.sasa.pdb', anc264)"
   ]
  },
  {
   "cell_type": "code",
   "execution_count": null,
   "metadata": {},
   "outputs": [],
   "source": []
  }
 ],
 "metadata": {
  "kernelspec": {
   "display_name": "bst",
   "language": "python",
   "name": "python3"
  },
  "language_info": {
   "codemirror_mode": {
    "name": "ipython",
    "version": 3
   },
   "file_extension": ".py",
   "mimetype": "text/x-python",
   "name": "python",
   "nbconvert_exporter": "python",
   "pygments_lexer": "ipython3",
   "version": "3.9.10"
  },
  "orig_nbformat": 4,
  "vscode": {
   "interpreter": {
    "hash": "ed49d9dc8263e20f82ef1c732e49d95838d00d7e343ec27a75bb1597d6166618"
   }
  }
 },
 "nbformat": 4,
 "nbformat_minor": 2
}
